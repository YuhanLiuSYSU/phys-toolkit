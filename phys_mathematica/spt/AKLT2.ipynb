{
 "cells": [
  {
   "cell_type": "code",
   "execution_count": 206,
   "id": "norman-small",
   "metadata": {},
   "outputs": [],
   "source": [
    "import numpy as np\n",
    "import scipy as sp\n",
    "\n",
    "from tenpy.networks.site import SpinSite\n",
    "import tenpy.linalg.np_conserved as npc\n",
    "import tenpy"
   ]
  },
  {
   "cell_type": "code",
   "execution_count": 207,
   "id": "classical-commodity",
   "metadata": {},
   "outputs": [],
   "source": [
    "site_v = SpinSite(S=0.5, conserve=\"Sz\")\n",
    "leg_v = site_v.onsite_ops['Sz'].legs[0]\n",
    "\n",
    "site_p = SpinSite(S=1, conserve=\"Sz\")\n",
    "leg_p = site_p.onsite_ops['Sz'].legs[0]\n",
    "\n",
    "B = npc.zeros([leg_v, leg_p.conj(), leg_v.conj()], labels=['vL', 'p', 'vR'])  "
   ]
  },
  {
   "cell_type": "code",
   "execution_count": 208,
   "id": "dressed-center",
   "metadata": {},
   "outputs": [],
   "source": [
    "B[:,0,:] = np.array([[0, np.sqrt(2/3)],[0,0]])\n",
    "B[:,1,:] = np.array([[-np.sqrt(1/3), 0],[0,np.sqrt(1/3)]])\n",
    "B[:,2,:] = np.array([[0, 0],[-np.sqrt(2/3),0]])"
   ]
  },
  {
   "cell_type": "code",
   "execution_count": null,
   "id": "alpine-warning",
   "metadata": {},
   "outputs": [],
   "source": []
  },
  {
   "cell_type": "code",
   "execution_count": 209,
   "id": "second-madrid",
   "metadata": {},
   "outputs": [
    {
     "name": "stdout",
     "output_type": "stream",
     "text": [
      "<npc.Array shape=(2, 3, 2) labels=['vL', 'p', 'vR']\n",
      "charge=ChargeInfo([1], ['2*Sz'])\n",
      " +1     | -1     | -1     \n",
      "0 [[-1] |0 [[-2] |0 [[-1] \n",
      "1  [ 1]]|1  [ 0] |1  [ 1]]\n",
      "2       |2  [ 2]]|2       \n",
      "        |3       |        \n",
      "[[[ 0.          0.81649658]\n",
      "  [-0.57735027  0.        ]\n",
      "  [ 0.          0.        ]]\n",
      "\n",
      " [[ 0.          0.        ]\n",
      "  [ 0.          0.57735027]\n",
      "  [-0.81649658  0.        ]]]\n",
      ">\n"
     ]
    }
   ],
   "source": [
    "print(B)"
   ]
  },
  {
   "cell_type": "code",
   "execution_count": null,
   "id": "protected-brunswick",
   "metadata": {},
   "outputs": [],
   "source": []
  },
  {
   "cell_type": "code",
   "execution_count": null,
   "id": "spatial-serbia",
   "metadata": {},
   "outputs": [],
   "source": []
  },
  {
   "cell_type": "code",
   "execution_count": 193,
   "id": "worldwide-onion",
   "metadata": {},
   "outputs": [],
   "source": [
    "N = 2\n",
    "\n",
    "B0 = B.copy()\n",
    "B0.ireplace_labels(['vL','p','vR'],['vL0','p0','vR0'])\n",
    "for ind in range(N):\n",
    "    B0 = npc.tensordot(B0,B,axes=('vR0', 'vL'))\n",
    "    B0 = B0.combine_legs([['p0', 'p']], qconj=-1)\n",
    "    B0.ireplace_labels(['(p0.p)','vR'],['p0','vR0'])\n"
   ]
  },
  {
   "cell_type": "code",
   "execution_count": 194,
   "id": "continent-workshop",
   "metadata": {},
   "outputs": [
    {
     "data": {
      "text/plain": [
       "array([ 0.        ,  0.        ,  0.        ,  0.        ,  0.        ,\n",
       "        0.        ,  0.        ,  0.        ,  0.        ,  0.        ,\n",
       "       -0.38490018,  0.38490018,  0.38490018,  0.        , -0.38490018,\n",
       "       -0.38490018,  0.38490018,  0.        ,  0.        ,  0.        ,\n",
       "        0.        ,  0.        ,  0.        ,  0.        ,  0.        ,\n",
       "        0.        ,  0.        ])"
      ]
     },
     "execution_count": 194,
     "metadata": {},
     "output_type": "execute_result"
    }
   ],
   "source": [
    "B0[0,:,0].to_ndarray() + B0[1,:,1].to_ndarray()"
   ]
  },
  {
   "cell_type": "code",
   "execution_count": null,
   "id": "other-papua",
   "metadata": {},
   "outputs": [],
   "source": []
  },
  {
   "cell_type": "code",
   "execution_count": 2,
   "id": "romantic-calvin",
   "metadata": {},
   "outputs": [],
   "source": [
    "import numpy as np\n",
    "A = {}\n",
    "A[0] = np.array([[0, np.sqrt(2/3)],[0,0]])\n",
    "A[1] = np.array([[-np.sqrt(1/3), 0],[0,np.sqrt(1/3)]])\n",
    "A[2] = np.array([[0, 0],[-np.sqrt(2/3),0]])\n"
   ]
  },
  {
   "cell_type": "code",
   "execution_count": 4,
   "id": "conceptual-sudan",
   "metadata": {},
   "outputs": [],
   "source": [
    "vals = []\n",
    "for i in range(0,3):\n",
    "    for j in range(0,3):\n",
    "        for k in range(0,3):\n",
    "            vals.append(np.trace(A[i]@A[j]@A[k]))\n",
    "norm = np.sum( np.array(vals)**2 )"
   ]
  },
  {
   "cell_type": "code",
   "execution_count": 5,
   "id": "curious-regard",
   "metadata": {},
   "outputs": [
    {
     "data": {
      "text/plain": [
       "[0.0,\n",
       " 0.0,\n",
       " 0.0,\n",
       " 0.0,\n",
       " 0.0,\n",
       " -0.3849001794597505,\n",
       " 0.0,\n",
       " 0.38490017945975047,\n",
       " 0.0,\n",
       " 0.0,\n",
       " 0.0,\n",
       " 0.3849001794597505,\n",
       " 0.0,\n",
       " 0.0,\n",
       " 0.0,\n",
       " -0.3849001794597505,\n",
       " 0.0,\n",
       " 0.0,\n",
       " 0.0,\n",
       " -0.38490017945975047,\n",
       " 0.0,\n",
       " 0.3849001794597505,\n",
       " 0.0,\n",
       " 0.0,\n",
       " 0.0,\n",
       " 0.0,\n",
       " 0.0]"
      ]
     },
     "execution_count": 5,
     "metadata": {},
     "output_type": "execute_result"
    }
   ],
   "source": [
    "vals"
   ]
  },
  {
   "cell_type": "code",
   "execution_count": null,
   "id": "reverse-stick",
   "metadata": {},
   "outputs": [],
   "source": []
  },
  {
   "cell_type": "code",
   "execution_count": 6,
   "id": "incorporate-technology",
   "metadata": {},
   "outputs": [],
   "source": [
    "counter = 0\n",
    "Tt = {}\n",
    "for i in range(0,3):\n",
    "    for j in range(0,3):\n",
    "        Tt[counter] = np.kron(A[i],A[j].conj())\n",
    "        counter +=1"
   ]
  },
  {
   "cell_type": "code",
   "execution_count": 12,
   "id": "responsible-tower",
   "metadata": {},
   "outputs": [
    {
     "data": {
      "text/plain": [
       "{0: array([[0.        , 0.        , 0.        , 0.66666667],\n",
       "        [0.        , 0.        , 0.        , 0.        ],\n",
       "        [0.        , 0.        , 0.        , 0.        ],\n",
       "        [0.        , 0.        , 0.        , 0.        ]]),\n",
       " 1: array([[-0.        ,  0.        , -0.47140452,  0.        ],\n",
       "        [ 0.        ,  0.        ,  0.        ,  0.47140452],\n",
       "        [-0.        ,  0.        , -0.        ,  0.        ],\n",
       "        [ 0.        ,  0.        ,  0.        ,  0.        ]]),\n",
       " 2: array([[ 0.        ,  0.        ,  0.        ,  0.        ],\n",
       "        [-0.        ,  0.        , -0.66666667,  0.        ],\n",
       "        [ 0.        ,  0.        ,  0.        ,  0.        ],\n",
       "        [-0.        ,  0.        , -0.        ,  0.        ]]),\n",
       " 3: array([[-0.        , -0.47140452,  0.        ,  0.        ],\n",
       "        [-0.        , -0.        ,  0.        ,  0.        ],\n",
       "        [ 0.        ,  0.        ,  0.        ,  0.47140452],\n",
       "        [ 0.        ,  0.        ,  0.        ,  0.        ]]),\n",
       " 4: array([[ 0.33333333, -0.        , -0.        ,  0.        ],\n",
       "        [-0.        , -0.33333333,  0.        ,  0.        ],\n",
       "        [-0.        ,  0.        , -0.33333333,  0.        ],\n",
       "        [ 0.        ,  0.        ,  0.        ,  0.33333333]]),\n",
       " 5: array([[-0.        , -0.        ,  0.        ,  0.        ],\n",
       "        [ 0.47140452, -0.        , -0.        ,  0.        ],\n",
       "        [ 0.        ,  0.        ,  0.        ,  0.        ],\n",
       "        [-0.        ,  0.        , -0.47140452,  0.        ]]),\n",
       " 6: array([[ 0.        ,  0.        ,  0.        ,  0.        ],\n",
       "        [ 0.        ,  0.        ,  0.        ,  0.        ],\n",
       "        [-0.        , -0.66666667,  0.        ,  0.        ],\n",
       "        [-0.        , -0.        ,  0.        ,  0.        ]]),\n",
       " 7: array([[-0.        ,  0.        , -0.        ,  0.        ],\n",
       "        [ 0.        ,  0.        ,  0.        ,  0.        ],\n",
       "        [ 0.47140452, -0.        , -0.        ,  0.        ],\n",
       "        [-0.        , -0.47140452,  0.        ,  0.        ]]),\n",
       " 8: array([[ 0.        ,  0.        ,  0.        ,  0.        ],\n",
       "        [-0.        ,  0.        , -0.        ,  0.        ],\n",
       "        [-0.        , -0.        ,  0.        ,  0.        ],\n",
       "        [ 0.66666667, -0.        , -0.        ,  0.        ]])}"
      ]
     },
     "execution_count": 12,
     "metadata": {},
     "output_type": "execute_result"
    }
   ],
   "source": [
    "Tt"
   ]
  },
  {
   "cell_type": "code",
   "execution_count": 8,
   "id": "fifteen-conducting",
   "metadata": {},
   "outputs": [],
   "source": [
    "# Projection to S=1 subspace\n",
    "P = np.zeros((3,9))\n",
    "P[0,1] = -1/np.sqrt(2)\n",
    "P[0,3] = 1/np.sqrt(2)\n",
    "\n",
    "P[1,2] = -1/np.sqrt(2)\n",
    "P[1,6] = 1/np.sqrt(2)\n",
    "\n",
    "P[2,5] = -1/np.sqrt(2)\n",
    "P[2,7] = 1/np.sqrt(2)"
   ]
  },
  {
   "cell_type": "code",
   "execution_count": 9,
   "id": "powerful-brooklyn",
   "metadata": {},
   "outputs": [
    {
     "data": {
      "text/plain": [
       "array([[ 0.        , -0.70710678,  0.        ,  0.70710678,  0.        ,\n",
       "         0.        ,  0.        ,  0.        ,  0.        ],\n",
       "       [ 0.        ,  0.        , -0.70710678,  0.        ,  0.        ,\n",
       "         0.        ,  0.70710678,  0.        ,  0.        ],\n",
       "       [ 0.        ,  0.        ,  0.        ,  0.        ,  0.        ,\n",
       "        -0.70710678,  0.        ,  0.70710678,  0.        ]])"
      ]
     },
     "execution_count": 9,
     "metadata": {},
     "output_type": "execute_result"
    }
   ],
   "source": [
    "P"
   ]
  },
  {
   "cell_type": "code",
   "execution_count": null,
   "id": "accurate-western",
   "metadata": {},
   "outputs": [],
   "source": []
  },
  {
   "cell_type": "code",
   "execution_count": 60,
   "id": "attractive-alberta",
   "metadata": {},
   "outputs": [],
   "source": [
    "# # Projection to S=2 subspace\n",
    "# P = np.zeros((5,9))\n",
    "# P[0,0] = 1\n",
    "# P[4,8] = 1\n",
    "\n",
    "# P[1,1] = 1/np.sqrt(2)\n",
    "# P[1,3] = 1/np.sqrt(2)\n",
    "\n",
    "# P[4,7] = 1/np.sqrt(2)\n",
    "# P[3,5] = 1/np.sqrt(2)\n",
    "\n",
    "# P[2,2] = 1/np.sqrt(6)\n",
    "# P[2,4] = 2/np.sqrt(6)\n",
    "# P[2,6] = 1/np.sqrt(6)"
   ]
  },
  {
   "cell_type": "code",
   "execution_count": 10,
   "id": "ranging-market",
   "metadata": {},
   "outputs": [],
   "source": [
    "Nt = {}\n",
    "for i in range(0,P.shape[0]):\n",
    "    Nt[i] = np.zeros(Tt[0].shape)\n",
    "    for j in range(0,P.shape[1]):\n",
    "        Nt[i] = Nt[i] + P[i,j]*Tt[j]"
   ]
  },
  {
   "cell_type": "code",
   "execution_count": 11,
   "id": "governmental-acceptance",
   "metadata": {},
   "outputs": [
    {
     "data": {
      "text/plain": [
       "{0: array([[ 0.        , -0.33333333,  0.33333333,  0.        ],\n",
       "        [ 0.        ,  0.        ,  0.        , -0.33333333],\n",
       "        [ 0.        ,  0.        ,  0.        ,  0.33333333],\n",
       "        [ 0.        ,  0.        ,  0.        ,  0.        ]]),\n",
       " 1: array([[ 0.        ,  0.        ,  0.        ,  0.        ],\n",
       "        [ 0.        ,  0.        ,  0.47140452,  0.        ],\n",
       "        [ 0.        , -0.47140452,  0.        ,  0.        ],\n",
       "        [ 0.        ,  0.        ,  0.        ,  0.        ]]),\n",
       " 2: array([[ 0.        ,  0.        ,  0.        ,  0.        ],\n",
       "        [-0.33333333,  0.        ,  0.        ,  0.        ],\n",
       "        [ 0.33333333,  0.        ,  0.        ,  0.        ],\n",
       "        [ 0.        , -0.33333333,  0.33333333,  0.        ]])}"
      ]
     },
     "execution_count": 11,
     "metadata": {},
     "output_type": "execute_result"
    }
   ],
   "source": [
    "Nt"
   ]
  },
  {
   "cell_type": "code",
   "execution_count": 201,
   "id": "adopted-madness",
   "metadata": {},
   "outputs": [
    {
     "name": "stdout",
     "output_type": "stream",
     "text": [
      "0\n",
      "[[ 0.         -0.33333333  0.33333333  0.        ]\n",
      " [ 0.          0.          0.         -0.33333333]\n",
      " [ 0.          0.          0.          0.33333333]\n",
      " [ 0.          0.          0.          0.        ]]\n",
      "\n",
      "1\n",
      "[[ 0.          0.          0.          0.        ]\n",
      " [ 0.          0.          0.47140452  0.        ]\n",
      " [ 0.         -0.47140452  0.          0.        ]\n",
      " [ 0.          0.          0.          0.        ]]\n",
      "\n",
      "2\n",
      "[[ 0.          0.          0.          0.        ]\n",
      " [-0.33333333  0.          0.          0.        ]\n",
      " [ 0.33333333  0.          0.          0.        ]\n",
      " [ 0.         -0.33333333  0.33333333  0.        ]]\n",
      "\n"
     ]
    }
   ],
   "source": [
    "for i in range(P.shape[0]):\n",
    "    print(i)\n",
    "    print(Nt[i])\n",
    "    print()"
   ]
  },
  {
   "cell_type": "code",
   "execution_count": 76,
   "id": "optical-squad",
   "metadata": {
    "scrolled": true
   },
   "outputs": [
    {
     "data": {
      "text/plain": [
       "[0.0,\n",
       " 0.0,\n",
       " 0.0,\n",
       " 0.0,\n",
       " 0.0,\n",
       " 0.0,\n",
       " 0.0,\n",
       " 0.0,\n",
       " 0.04938271604938271,\n",
       " 0.0,\n",
       " 0.0,\n",
       " 0.0,\n",
       " 0.0,\n",
       " 0.0,\n",
       " -0.04938271604938269,\n",
       " 0.0,\n",
       " 0.0,\n",
       " 0.0,\n",
       " 0.0,\n",
       " 0.0,\n",
       " 0.09876543209876543,\n",
       " 0.0,\n",
       " -0.0493827160493827,\n",
       " 0.0,\n",
       " 0.04938271604938271,\n",
       " 0.0,\n",
       " 0.0,\n",
       " 0.0,\n",
       " 0.0,\n",
       " 0.0,\n",
       " 0.0,\n",
       " 0.0,\n",
       " 0.0,\n",
       " 0.0,\n",
       " -0.04938271604938269,\n",
       " 0.0,\n",
       " 0.0,\n",
       " 0.0,\n",
       " -0.04938271604938269,\n",
       " 0.0,\n",
       " 0.09876543209876537,\n",
       " 0.0,\n",
       " -0.04938271604938269,\n",
       " 0.0,\n",
       " 0.0,\n",
       " 0.0,\n",
       " -0.04938271604938269,\n",
       " 0.0,\n",
       " 0.0,\n",
       " 0.0,\n",
       " 0.0,\n",
       " 0.0,\n",
       " 0.0,\n",
       " 0.0,\n",
       " 0.0,\n",
       " 0.0,\n",
       " 0.04938271604938271,\n",
       " 0.0,\n",
       " -0.0493827160493827,\n",
       " 0.0,\n",
       " 0.09876543209876543,\n",
       " 0.0,\n",
       " 0.0,\n",
       " 0.0,\n",
       " 0.0,\n",
       " 0.0,\n",
       " -0.04938271604938269,\n",
       " 0.0,\n",
       " 0.0,\n",
       " 0.0,\n",
       " 0.0,\n",
       " 0.0,\n",
       " 0.04938271604938271,\n",
       " 0.0,\n",
       " 0.0,\n",
       " 0.0,\n",
       " 0.0,\n",
       " 0.0,\n",
       " 0.0,\n",
       " 0.0,\n",
       " 0.0]"
      ]
     },
     "execution_count": 76,
     "metadata": {},
     "output_type": "execute_result"
    }
   ],
   "source": [
    "counter = 0\n",
    "vals = []\n",
    "for i in range(0,3):\n",
    "    for j in range(0,3):\n",
    "        for k in range(0,3):\n",
    "            for l in range(0,3):\n",
    "                vals.append(np.trace(Nt[i]@Nt[j]@Nt[k]@Nt[l]))\n",
    "\n",
    "vals"
   ]
  },
  {
   "cell_type": "code",
   "execution_count": 80,
   "id": "effective-regression",
   "metadata": {},
   "outputs": [
    {
     "data": {
      "text/plain": [
       "0.058527663465935034"
      ]
     },
     "execution_count": 80,
     "metadata": {},
     "output_type": "execute_result"
    }
   ],
   "source": [
    "np.sum( np.array(vals)**2 )"
   ]
  },
  {
   "cell_type": "code",
   "execution_count": null,
   "id": "presidential-topic",
   "metadata": {},
   "outputs": [],
   "source": []
  },
  {
   "cell_type": "code",
   "execution_count": null,
   "id": "legislative-reward",
   "metadata": {},
   "outputs": [],
   "source": []
  },
  {
   "cell_type": "code",
   "execution_count": null,
   "id": "universal-snapshot",
   "metadata": {},
   "outputs": [],
   "source": []
  },
  {
   "cell_type": "code",
   "execution_count": 86,
   "id": "aggregate-toolbox",
   "metadata": {},
   "outputs": [],
   "source": [
    "counter = 0\n",
    "vals = []\n",
    "for i in range(0,3):\n",
    "    for j in range(0,3):\n",
    "        vals.append(np.trace(Nt[i]@Nt[j]))\n",
    "norm = np.sum( np.array(vals)**2 )"
   ]
  },
  {
   "cell_type": "code",
   "execution_count": 87,
   "id": "enclosed-suite",
   "metadata": {},
   "outputs": [
    {
     "data": {
      "text/plain": [
       "[0.0,\n",
       " 0.0,\n",
       " 0.4444444444444444,\n",
       " 0.0,\n",
       " -0.4444444444444443,\n",
       " 0.0,\n",
       " 0.4444444444444444,\n",
       " 0.0,\n",
       " 0.0]"
      ]
     },
     "execution_count": 87,
     "metadata": {},
     "output_type": "execute_result"
    }
   ],
   "source": [
    "vals"
   ]
  },
  {
   "cell_type": "code",
   "execution_count": 85,
   "id": "perfect-hostel",
   "metadata": {},
   "outputs": [
    {
     "data": {
      "text/plain": [
       "0.35116598079561023"
      ]
     },
     "execution_count": 85,
     "metadata": {},
     "output_type": "execute_result"
    }
   ],
   "source": [
    "norm**2"
   ]
  },
  {
   "cell_type": "code",
   "execution_count": null,
   "id": "analyzed-uruguay",
   "metadata": {},
   "outputs": [],
   "source": []
  },
  {
   "cell_type": "code",
   "execution_count": 13,
   "id": "brutal-monaco",
   "metadata": {},
   "outputs": [],
   "source": [
    "E = {}\n",
    "for i in range(0,P.shape[0]):\n",
    "    E[i] = np.kron(Nt[i],Nt[i].conj())"
   ]
  },
  {
   "cell_type": "code",
   "execution_count": 26,
   "id": "center-catalog",
   "metadata": {},
   "outputs": [],
   "source": [
    "# the bug is corrected here\n",
    "\n",
    "Etot = np.zeros(E[0].shape)\n",
    "for val in E:\n",
    "    Etot = Etot + E[val]\n",
    "\n",
    "evals, evecs = np.linalg.eig(Etot)"
   ]
  },
  {
   "cell_type": "code",
   "execution_count": 29,
   "id": "professional-mexican",
   "metadata": {},
   "outputs": [
    {
     "data": {
      "text/plain": [
       "array([-3.84900179e-01+0.00000000e+00j, -2.22222222e-01+0.00000000e+00j,\n",
       "       -2.22222222e-01+0.00000000e+00j, -2.22222222e-01+0.00000000e+00j,\n",
       "       -5.53284821e-18+0.00000000e+00j, -2.25789756e-18+0.00000000e+00j,\n",
       "        0.00000000e+00+0.00000000e+00j,  0.00000000e+00+0.00000000e+00j,\n",
       "        8.56253657e-19-5.67811901e-18j,  8.56253657e-19+5.67811901e-18j,\n",
       "        1.38661644e-17+0.00000000e+00j,  4.16604685e-17+0.00000000e+00j,\n",
       "        2.22222222e-01+0.00000000e+00j,  2.22222222e-01+0.00000000e+00j,\n",
       "        2.22222222e-01+0.00000000e+00j,  3.84900179e-01+0.00000000e+00j])"
      ]
     },
     "execution_count": 29,
     "metadata": {},
     "output_type": "execute_result"
    }
   ],
   "source": [
    "np.sort(evals)"
   ]
  },
  {
   "cell_type": "code",
   "execution_count": null,
   "id": "stone-claim",
   "metadata": {},
   "outputs": [],
   "source": []
  },
  {
   "cell_type": "code",
   "execution_count": 10,
   "id": "quality-honey",
   "metadata": {},
   "outputs": [],
   "source": [
    "L = 10\n",
    "norm = np.trace( np.linalg.matrix_power(Etot,L) )\n",
    "\n",
    "vals = np.zeros((9,9))\n",
    "for i in range(0,9):\n",
    "    for j in range(0,9):        \n",
    "        vals[i,j] = np.trace(np.kron(Tt[i],np.conj(Tt[j]) )@np.linalg.matrix_power(Etot,L-2))/norm"
   ]
  },
  {
   "cell_type": "code",
   "execution_count": 11,
   "id": "matched-attraction",
   "metadata": {},
   "outputs": [
    {
     "data": {
      "text/plain": [
       "1.3688674012155009"
      ]
     },
     "execution_count": 11,
     "metadata": {},
     "output_type": "execute_result"
    }
   ],
   "source": [
    "p = np.linalg.eigvals(vals)\n",
    "p = p + 1e-10\n",
    "np.sum(-p*np.log(p))"
   ]
  },
  {
   "cell_type": "code",
   "execution_count": 12,
   "id": "electric-first",
   "metadata": {},
   "outputs": [
    {
     "data": {
      "text/plain": [
       "1.3862943611198906"
      ]
     },
     "execution_count": 12,
     "metadata": {},
     "output_type": "execute_result"
    }
   ],
   "source": [
    "np.log(4)"
   ]
  },
  {
   "cell_type": "code",
   "execution_count": null,
   "id": "gentle-september",
   "metadata": {},
   "outputs": [],
   "source": []
  },
  {
   "cell_type": "code",
   "execution_count": 13,
   "id": "impressive-september",
   "metadata": {},
   "outputs": [],
   "source": [
    "counter = 0\n",
    "Tt = {}\n",
    "for i in range(0,3):\n",
    "    for j in range(0,3):\n",
    "        for k in range(0,3):    \n",
    "            Tt[counter] = A[i]@A[j]@A[k]\n",
    "            counter +=1\n",
    "        \n",
    "L = 20\n",
    "norm = np.trace( np.linalg.matrix_power(Etot,L) )\n",
    "\n",
    "vals = np.zeros((27,27))\n",
    "for i in range(0,27):\n",
    "    for j in range(0,27):        \n",
    "        vals[i,j] = np.trace(np.kron(Tt[i],np.conj(Tt[j]) )@np.linalg.matrix_power(Etot,L-3))/norm"
   ]
  },
  {
   "cell_type": "code",
   "execution_count": 14,
   "id": "identified-billy",
   "metadata": {},
   "outputs": [
    {
     "data": {
      "text/plain": [
       "(1.384182475866883+0j)"
      ]
     },
     "execution_count": 14,
     "metadata": {},
     "output_type": "execute_result"
    }
   ],
   "source": [
    "p = np.linalg.eigvals(vals)\n",
    "p = p + 1e-10\n",
    "np.sum(-p*np.log(p))"
   ]
  },
  {
   "cell_type": "code",
   "execution_count": null,
   "id": "altered-induction",
   "metadata": {},
   "outputs": [],
   "source": []
  },
  {
   "cell_type": "code",
   "execution_count": null,
   "id": "protected-seeking",
   "metadata": {},
   "outputs": [],
   "source": []
  },
  {
   "cell_type": "code",
   "execution_count": 15,
   "id": "bridal-lawyer",
   "metadata": {},
   "outputs": [],
   "source": [
    "counter = 0\n",
    "Tt = {}\n",
    "for i in range(0,3):\n",
    "    for j in range(0,3):\n",
    "        for k in range(0,3):    \n",
    "            for l in range(0,3):    \n",
    "                Tt[counter] = A[i]@A[j]@A[k]@A[l]\n",
    "                counter +=1\n",
    "        \n",
    "L = 20\n",
    "norm = np.trace( np.linalg.matrix_power(Etot,L) )\n",
    "\n",
    "vals = np.zeros((81,81))\n",
    "for i in range(0,81):\n",
    "    for j in range(0,81):        \n",
    "        vals[i,j] = np.trace(np.kron(Tt[i],np.conj(Tt[j]) )@np.linalg.matrix_power(Etot,L-3))/norm"
   ]
  },
  {
   "cell_type": "code",
   "execution_count": 16,
   "id": "heavy-microwave",
   "metadata": {},
   "outputs": [
    {
     "data": {
      "text/plain": [
       "(1.386067756597733-2.465190328815662e-32j)"
      ]
     },
     "execution_count": 16,
     "metadata": {},
     "output_type": "execute_result"
    }
   ],
   "source": [
    "p = np.linalg.eigvals(vals)\n",
    "p = p + 1e-10\n",
    "np.sum(-p*np.log(p))"
   ]
  },
  {
   "cell_type": "code",
   "execution_count": null,
   "id": "efficient-testament",
   "metadata": {},
   "outputs": [],
   "source": []
  },
  {
   "cell_type": "code",
   "execution_count": null,
   "id": "fitting-reward",
   "metadata": {},
   "outputs": [],
   "source": []
  },
  {
   "cell_type": "code",
   "execution_count": 17,
   "id": "circular-catering",
   "metadata": {},
   "outputs": [],
   "source": [
    "L = 5\n",
    "norm = np.trace( np.linalg.matrix_power(Etot,L) )\n",
    "\n",
    "vals = np.zeros((3,3))\n",
    "\n",
    "for i in range(0,3):\n",
    "    for j in range(0,3):\n",
    "        vals[i,j] = np.trace(E[i]@E[j]@np.linalg.matrix_power(Etot,L-2))/norm"
   ]
  },
  {
   "cell_type": "code",
   "execution_count": 18,
   "id": "asian-championship",
   "metadata": {},
   "outputs": [
    {
     "data": {
      "text/plain": [
       "array([[0.        , 0.11666667, 0.21666667],\n",
       "       [0.11666667, 0.1       , 0.11666667],\n",
       "       [0.21666667, 0.11666667, 0.        ]])"
      ]
     },
     "execution_count": 18,
     "metadata": {},
     "output_type": "execute_result"
    }
   ],
   "source": [
    "vals"
   ]
  },
  {
   "cell_type": "code",
   "execution_count": null,
   "id": "loaded-treaty",
   "metadata": {},
   "outputs": [],
   "source": []
  },
  {
   "cell_type": "code",
   "execution_count": 19,
   "id": "accurate-parcel",
   "metadata": {},
   "outputs": [
    {
     "name": "stderr",
     "output_type": "stream",
     "text": [
      "/var/folders/9x/26psv69j0_z6sl02w55fn8nr0000gp/T/ipykernel_33297/1944748104.py:1: RuntimeWarning: divide by zero encountered in log\n",
      "  np.sum(-vals*np.log(vals))\n",
      "/var/folders/9x/26psv69j0_z6sl02w55fn8nr0000gp/T/ipykernel_33297/1944748104.py:1: RuntimeWarning: invalid value encountered in multiply\n",
      "  np.sum(-vals*np.log(vals))\n"
     ]
    },
    {
     "data": {
      "text/plain": [
       "nan"
      ]
     },
     "execution_count": 19,
     "metadata": {},
     "output_type": "execute_result"
    }
   ],
   "source": [
    "np.sum(-vals*np.log(vals))"
   ]
  },
  {
   "cell_type": "code",
   "execution_count": 20,
   "id": "explicit-reception",
   "metadata": {},
   "outputs": [
    {
     "data": {
      "text/plain": [
       "1.3862943611198906"
      ]
     },
     "execution_count": 20,
     "metadata": {},
     "output_type": "execute_result"
    }
   ],
   "source": [
    "np.log(4)"
   ]
  },
  {
   "cell_type": "code",
   "execution_count": 21,
   "id": "recorded-sunglasses",
   "metadata": {},
   "outputs": [
    {
     "data": {
      "text/plain": [
       "array([[0.        , 0.11666667, 0.21666667],\n",
       "       [0.11666667, 0.1       , 0.11666667],\n",
       "       [0.21666667, 0.11666667, 0.        ]])"
      ]
     },
     "execution_count": 21,
     "metadata": {},
     "output_type": "execute_result"
    }
   ],
   "source": [
    "vals"
   ]
  },
  {
   "cell_type": "code",
   "execution_count": null,
   "id": "answering-meaning",
   "metadata": {},
   "outputs": [],
   "source": []
  },
  {
   "cell_type": "code",
   "execution_count": 22,
   "id": "likely-proceeding",
   "metadata": {},
   "outputs": [],
   "source": [
    "Sx = np.array([[0,1,0],[1,0,1],[0,1,0]])/np.sqrt(2)\n",
    "Sz = np.array([[1,0,0],[0,0,0],[0,0,-1]])"
   ]
  },
  {
   "cell_type": "code",
   "execution_count": 23,
   "id": "turned-still",
   "metadata": {},
   "outputs": [
    {
     "ename": "AttributeError",
     "evalue": "module 'scipy' has no attribute 'linalg'",
     "output_type": "error",
     "traceback": [
      "\u001b[0;31m---------------------------------------------------------------------------\u001b[0m",
      "\u001b[0;31mAttributeError\u001b[0m                            Traceback (most recent call last)",
      "Input \u001b[0;32mIn [23]\u001b[0m, in \u001b[0;36m<cell line: 1>\u001b[0;34m()\u001b[0m\n\u001b[0;32m----> 1\u001b[0m np\u001b[38;5;241m.\u001b[39mround( \u001b[43msp\u001b[49m\u001b[38;5;241;43m.\u001b[39;49m\u001b[43mlinalg\u001b[49m\u001b[38;5;241m.\u001b[39mexpm(\u001b[38;5;241m1\u001b[39mj\u001b[38;5;241m*\u001b[39mnp\u001b[38;5;241m.\u001b[39mpi\u001b[38;5;241m*\u001b[39mSx), \u001b[38;5;241m4\u001b[39m)\n",
      "\u001b[0;31mAttributeError\u001b[0m: module 'scipy' has no attribute 'linalg'"
     ]
    }
   ],
   "source": [
    "\n",
    "np.round( sp.linalg.expm(1j*np.pi*Sx), 4)"
   ]
  },
  {
   "cell_type": "code",
   "execution_count": null,
   "id": "related-letters",
   "metadata": {},
   "outputs": [],
   "source": [
    "np.round( sp.linalg.expm(1j*np.pi*Sz), 4)"
   ]
  },
  {
   "cell_type": "code",
   "execution_count": null,
   "id": "copyrighted-melbourne",
   "metadata": {},
   "outputs": [],
   "source": []
  },
  {
   "cell_type": "code",
   "execution_count": null,
   "id": "functioning-panama",
   "metadata": {},
   "outputs": [],
   "source": []
  },
  {
   "cell_type": "code",
   "execution_count": null,
   "id": "systematic-emerald",
   "metadata": {},
   "outputs": [],
   "source": []
  },
  {
   "cell_type": "code",
   "execution_count": null,
   "id": "tight-dragon",
   "metadata": {},
   "outputs": [],
   "source": []
  },
  {
   "cell_type": "code",
   "execution_count": null,
   "id": "negative-guitar",
   "metadata": {},
   "outputs": [],
   "source": []
  },
  {
   "cell_type": "code",
   "execution_count": null,
   "id": "endangered-guarantee",
   "metadata": {},
   "outputs": [],
   "source": []
  }
 ],
 "metadata": {
  "kernelspec": {
   "display_name": "Python 3",
   "language": "python",
   "name": "python3"
  },
  "language_info": {
   "codemirror_mode": {
    "name": "ipython",
    "version": 3
   },
   "file_extension": ".py",
   "mimetype": "text/x-python",
   "name": "python",
   "nbconvert_exporter": "python",
   "pygments_lexer": "ipython3",
   "version": "3.9.2"
  }
 },
 "nbformat": 4,
 "nbformat_minor": 5
}
